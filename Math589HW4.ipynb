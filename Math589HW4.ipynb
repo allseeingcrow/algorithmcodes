{
 "cells": [
  {
   "cell_type": "code",
   "execution_count": 1,
   "id": "67f0107a",
   "metadata": {},
   "outputs": [],
   "source": [
    "import numpy as np"
   ]
  },
  {
   "cell_type": "code",
   "execution_count": 2,
   "id": "ca63d940",
   "metadata": {
    "scrolled": true
   },
   "outputs": [
    {
     "name": "stdout",
     "output_type": "stream",
     "text": [
      "These are the numbers less than 2^53:\n",
      "9007199254740992.0\n",
      "9007199254740991.0\n",
      "9007199254740990.0\n",
      "9007199254740989.0\n",
      "9007199254740988.0\n",
      "These are the numbers greater than 2^53:\n",
      "9007199254740992.0\n",
      "9007199254740992.0\n",
      "9007199254740994.0\n",
      "9007199254740996.0\n",
      "9007199254740996.0\n"
     ]
    }
   ],
   "source": [
    "print(\"These are the numbers less than 2^53:\")\n",
    "for i in range(5):\n",
    "    print(float(2**53 - i))\n",
    "print(\"These are the numbers greater than 2^53:\")\n",
    "for i in range(5):    \n",
    "    print(float(2**53+ i))"
   ]
  },
  {
   "cell_type": "code",
   "execution_count": null,
   "id": "8d97969d",
   "metadata": {},
   "outputs": [],
   "source": []
  }
 ],
 "metadata": {
  "kernelspec": {
   "display_name": "Python 3",
   "language": "python",
   "name": "python3"
  },
  "language_info": {
   "codemirror_mode": {
    "name": "ipython",
    "version": 3
   },
   "file_extension": ".py",
   "mimetype": "text/x-python",
   "name": "python",
   "nbconvert_exporter": "python",
   "pygments_lexer": "ipython3",
   "version": "3.8.8"
  }
 },
 "nbformat": 4,
 "nbformat_minor": 5
}
